{
  "nbformat": 4,
  "nbformat_minor": 0,
  "metadata": {
    "colab": {
      "name": "getImages.ipynb",
      "version": "0.3.2",
      "provenance": [],
      "collapsed_sections": [],
      "include_colab_link": true
    },
    "kernelspec": {
      "name": "python3",
      "display_name": "Python 3"
    }
  },
  "cells": [
    {
      "cell_type": "markdown",
      "metadata": {
        "id": "view-in-github",
        "colab_type": "text"
      },
      "source": [
        "<a href=\"https://colab.research.google.com/github/MohammadSalek/Word2Image/blob/master/getImages.ipynb\" target=\"_parent\"><img src=\"https://colab.research.google.com/assets/colab-badge.svg\" alt=\"Open In Colab\"/></a>"
      ]
    },
    {
      "cell_type": "code",
      "metadata": {
        "id": "QK2h8xXJr93q",
        "colab_type": "code",
        "colab": {}
      },
      "source": [
        "#install dependency\n",
        "!pip install google_images_download"
      ],
      "execution_count": 0,
      "outputs": []
    },
    {
      "cell_type": "code",
      "metadata": {
        "colab_type": "code",
        "id": "my3gJtPR3GHa",
        "cellView": "code",
        "colab": {}
      },
      "source": [
        "from google_images_download import google_images_download\n",
        "import os\n",
        "\n",
        "def download_images(limit, words_list):\n",
        "  response = google_images_download.googleimagesdownload()\n",
        "  paths = []\n",
        "  for word in words_list:\n",
        "\t  arguments = {\n",
        "\t      \"keywords\":word,\n",
        "\t      \"limit\":limit,\n",
        "\t      \"print_urls\":False\n",
        "\t  }\n",
        "\t  paths += (response.download(arguments))\n",
        "  for dic in paths[0::2]:\n",
        "\t  for key in dic:\n",
        "\t    print(\"(+) word:\", key)\n",
        "\t    print(\"(+) address:\", dic[key])\n",
        "\t    print()\n",
        "  return paths\n",
        "\n",
        "def main():\n",
        "  words = input(\"Enter text(words seperated by space):\")\n",
        "  limit = int(input(\"Enter the number of images to download for each word:\"))\n",
        "  words_list = words.split(\" \")\n",
        "  download_images(limit, words_list)\n",
        "\n",
        "main()"
      ],
      "execution_count": 0,
      "outputs": []
    },
    {
      "cell_type": "code",
      "metadata": {
        "id": "c5YsmjNC-9FF",
        "colab_type": "code",
        "colab": {}
      },
      "source": [
        "#show downloaded files in dir:\n",
        "import os\n",
        "\n",
        "for filename in os.listdir(\"/content/downloads/\"):\n",
        "  print('\"' + filename + '\"')"
      ],
      "execution_count": 0,
      "outputs": []
    },
    {
      "cell_type": "code",
      "metadata": {
        "id": "O3f5nFL_xb6Q",
        "colab_type": "code",
        "colab": {}
      },
      "source": [
        "#clean the dir - use cautiously!\n",
        "!rm -r /content/*"
      ],
      "execution_count": 0,
      "outputs": []
    }
  ]
}